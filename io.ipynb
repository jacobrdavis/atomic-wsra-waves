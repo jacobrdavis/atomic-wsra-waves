{
 "cells": [
  {
   "cell_type": "markdown",
   "metadata": {},
   "source": [
    "# I/O"
   ]
  },
  {
   "cell_type": "markdown",
   "metadata": {},
   "source": [
    "Input-output for the ATOMIC WSRA wave validation notebooks.  For more information on the datasets, see Pincus et al. (2021) and Quinn et al. (2020):\n",
    "\n",
    "https://www.ncei.noaa.gov/access/metadata/landing-page/bin/iso?id=gov.noaa.nodc:ATOMIC-2020"
   ]
  },
  {
   "cell_type": "code",
   "execution_count": null,
   "metadata": {},
   "outputs": [],
   "source": [
    "import glob\n",
    "import re\n",
    "\n",
    "import pywsra\n",
    "import xarray as xr"
   ]
  },
  {
   "cell_type": "markdown",
   "metadata": {},
   "source": [
    "## Setup"
   ]
  },
  {
   "cell_type": "markdown",
   "metadata": {},
   "source": [
    "Clear all stored variables in the notebook."
   ]
  },
  {
   "cell_type": "code",
   "execution_count": null,
   "metadata": {},
   "outputs": [],
   "source": [
    "# (% = iPython \"magic\" command)\n",
    "%store -z"
   ]
  },
  {
   "cell_type": "code",
   "execution_count": null,
   "metadata": {},
   "outputs": [],
   "source": [
    "ATOMIC_PATH = '../../data/ATOMIC/'"
   ]
  },
  {
   "cell_type": "markdown",
   "metadata": {},
   "source": [
    "## WSRA dataset"
   ]
  },
  {
   "cell_type": "code",
   "execution_count": null,
   "metadata": {},
   "outputs": [],
   "source": [
    "atomic_wsra = pywsra.read_wsra_directory(ATOMIC_PATH + 'WSRA/', index_by_time=True)\n",
    "\n",
    "# Store this variable for use in the other .ipynb files.\n",
    "%store atomic_wsra"
   ]
  },
  {
   "cell_type": "markdown",
   "metadata": {},
   "source": [
    "SWIFT dataset"
   ]
  },
  {
   "cell_type": "code",
   "execution_count": null,
   "metadata": {},
   "outputs": [],
   "source": [
    "def read_swift_directory(path: str) -> dict:\n",
    "    \"\"\"Helper function to read a directory of SWIFT .nc files.\n",
    "\n",
    "    Returns a dictionary of xarray Datasets. Requires 'SWIFT[id]' to be\n",
    "    in the individual filenames.\n",
    "    \"\"\"\n",
    "    filenames = glob.glob(path + \"/*.nc\")\n",
    "    swifts = {}\n",
    "    for file in filenames:\n",
    "        swift_id = re.search('SWIFT[0-9]{2}', file).group()\n",
    "        swifts[swift_id] = xr.open_dataset(file)\n",
    "\n",
    "    return swifts"
   ]
  },
  {
   "cell_type": "code",
   "execution_count": null,
   "metadata": {},
   "outputs": [],
   "source": [
    "atomic_swifts = read_swift_directory(ATOMIC_PATH + 'SWIFT/')\n",
    "\n",
    "%store atomic_swifts"
   ]
  },
  {
   "cell_type": "markdown",
   "metadata": {},
   "source": [
    "## Wave Glider dataset"
   ]
  },
  {
   "cell_type": "code",
   "execution_count": null,
   "metadata": {},
   "outputs": [],
   "source": [
    "def read_waveglider_directory(path: str) -> dict:\n",
    "    \"\"\"Helper function to read a directory of Wave Glider .nc files.\n",
    "\n",
    "    Returns a dictionary of xarray Datasets. Requires 'WG[id]' to be\n",
    "    in the individual filenames.\n",
    "    \"\"\"\n",
    "    filenames = glob.glob(path + \"/*.nc\")\n",
    "    wave_gliders = {}\n",
    "    for file in filenames:\n",
    "        wave_glider_id = re.search('WG[0-9]+', file).group()\n",
    "        wave_gliders[wave_glider_id] = xr.open_dataset(file)\n",
    "\n",
    "    return wave_gliders"
   ]
  },
  {
   "cell_type": "code",
   "execution_count": null,
   "metadata": {},
   "outputs": [],
   "source": [
    "atomic_wave_gliders = read_waveglider_directory(ATOMIC_PATH + 'Wave_Gliders/')\n",
    "\n",
    "%store atomic_wave_gliders"
   ]
  },
  {
   "cell_type": "markdown",
   "metadata": {},
   "source": [
    "## Ship data"
   ]
  },
  {
   "cell_type": "code",
   "execution_count": null,
   "metadata": {},
   "outputs": [],
   "source": [
    "atomic_ship = xr.open_dataset(ATOMIC_PATH + 'ship' + '/EUREC4A_ATOMIC_RonBrown_10min_nav_met_sea_flux_20200109-20200212_v1.3.nc')\n",
    "\n",
    "%store atomic_ship"
   ]
  }
 ],
 "metadata": {
  "kernelspec": {
   "display_name": "PyWSRA",
   "language": "python",
   "name": "python3"
  },
  "language_info": {
   "codemirror_mode": {
    "name": "ipython",
    "version": 3
   },
   "file_extension": ".py",
   "mimetype": "text/x-python",
   "name": "python",
   "nbconvert_exporter": "python",
   "pygments_lexer": "ipython3",
   "version": "3.10.12"
  },
  "orig_nbformat": 4
 },
 "nbformat": 4,
 "nbformat_minor": 2
}
